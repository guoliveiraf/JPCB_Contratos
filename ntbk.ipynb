{
 "cells": [
  {
   "cell_type": "code",
   "execution_count": null,
   "metadata": {},
   "outputs": [],
   "source": [
    "pip install python-docx pypandoc\n"
   ]
  },
  {
   "cell_type": "code",
   "execution_count": 4,
   "metadata": {},
   "outputs": [],
   "source": [
    "from docx import Document\n",
    "import pypandoc\n",
    "import os"
   ]
  },
  {
   "cell_type": "code",
   "execution_count": 1,
   "metadata": {},
   "outputs": [
    {
     "name": "stdout",
     "output_type": "stream",
     "text": [
      "Você selecionou o contrato: Bronze\n"
     ]
    },
    {
     "name": "stderr",
     "output_type": "stream",
     "text": [
      "[WARNING] pdflatex: major issue: So far, you have not checked for MiKTeX updates.\n",
      "\n"
     ]
    },
    {
     "name": "stdout",
     "output_type": "stream",
     "text": [
      "Contrato gerado: contratos/Contrato_Livia Helena Correia.pdf\n"
     ]
    }
   ],
   "source": [
    "from docx import Document\n",
    "import pypandoc\n",
    "\n",
    "pypandoc.download_pandoc()\n",
    "\n",
    "# Solicita o tipo de contrato ao usuário\n",
    "tipo = int(input('Qual o tipo do contrato? 1 - Ouro, 2 - Prata, 3 - Bronze \\n'))\n",
    "\n",
    "if tipo == 1:\n",
    "    tipo_contrato = 'Ouro'\n",
    "elif tipo == 2:\n",
    "    tipo_contrato = 'Prata'\n",
    "else:\n",
    "    tipo_contrato = 'Bronze'\n",
    "\n",
    "print(f\"Você selecionou o contrato: {tipo_contrato}\")\n",
    "\n",
    "# Coleta de informações do cliente\n",
    "nome = input(\"Digite o nome da cliente: \\n\")\n",
    "rg = input(\"Digite o RG: \\n\")\n",
    "cpf = input(\"Digite o CPF: \\n\")\n",
    "endereco = input(\"Digite o endereço (Rua e Numero): \\n\")\n",
    "bairro = input(\"Digite o bairro: \\n\")\n",
    "cidade = input(\"Digite a cidade: \\n\")\n",
    "uf = input(\"Digite o estado(UF): \\n\")\n",
    "dataevento = input(\"Digite a data do evento (ex: 01 de janeiro de 2024): \\n\")\n",
    "\n",
    "# Função para preencher o contrato\n",
    "def preencher_contrato(nome, rg, cpf, endereco, bairro, cidade, uf, dataevento, tipo_contrato):\n",
    "    # Carrega o modelo de contrato\n",
    "    doc = Document(f'modelos/{tipo_contrato}.docx')\n",
    "\n",
    "    for paragrafo in doc.paragraphs:\n",
    "        if '<<NOME>>' in paragrafo.text:\n",
    "            paragrafo.text = paragrafo.text.replace('<<NOME>>', nome)\n",
    "        if '<<RG>>' in paragrafo.text:\n",
    "            paragrafo.text = paragrafo.text.replace('<<RG>>', rg)\n",
    "        if '<<CPF>>' in paragrafo.text:\n",
    "            paragrafo.text = paragrafo.text.replace('<<CPF>>', cpf)\n",
    "        if '<<ENDERECO>>' in paragrafo.text:\n",
    "            paragrafo.text = paragrafo.text.replace('<<ENDERECO>>', endereco)\n",
    "        if '<<BAIRRO>>' in paragrafo.text:\n",
    "            paragrafo.text = paragrafo.text.replace('<<BAIRRO>>', bairro)\n",
    "        if '<<CIDADE>>' in paragrafo.text:\n",
    "            paragrafo.text = paragrafo.text.replace('<<CIDADE>>', cidade)\n",
    "        if '<<UF>>' in paragrafo.text:\n",
    "            paragrafo.text = paragrafo.text.replace('<<UF>>', uf)\n",
    "        if '<<DATAEVENTO>>' in paragrafo.text:\n",
    "            paragrafo.text = paragrafo.text.replace('<<DATAEVENTO>>', dataevento)\n",
    "\n",
    "    output_path = f'contratos/Contrato_{nome}.docx'\n",
    "    doc.save(output_path)\n",
    "    return output_path\n",
    "\n",
    "# Função para converter DOCX para PDF\n",
    "def converter_para_pdf(input_path):\n",
    "    output_path = input_path.replace('.docx', '.pdf')\n",
    "    pypandoc.convert_file(input_path, 'pdf', outputfile=output_path)\n",
    "    return output_path\n",
    "\n",
    "# Preencher o contrato e converter para PDF\n",
    "docx_path = preencher_contrato(nome, rg, cpf, endereco, bairro, cidade, uf, dataevento, tipo_contrato)\n",
    "pdf_path = converter_para_pdf(docx_path)\n",
    "print(f\"Contrato gerado: {pdf_path}\")\n"
   ]
  }
 ],
 "metadata": {
  "kernelspec": {
   "display_name": "Python 3",
   "language": "python",
   "name": "python3"
  },
  "language_info": {
   "codemirror_mode": {
    "name": "ipython",
    "version": 3
   },
   "file_extension": ".py",
   "mimetype": "text/x-python",
   "name": "python",
   "nbconvert_exporter": "python",
   "pygments_lexer": "ipython3",
   "version": "3.12.3"
  }
 },
 "nbformat": 4,
 "nbformat_minor": 2
}
